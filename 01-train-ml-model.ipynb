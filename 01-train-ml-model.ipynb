{
 "cells": [
  {
   "attachments": {},
   "cell_type": "markdown",
   "metadata": {},
   "source": [
    "# Train a Regression Model\n",
    "\n",
    "In this notebook we will train a Linear Regression Model on the Green Taxi Dataset. We will only use one month for the training. And keep only a small number of features. \n",
    "\n",
    "We want the model to predict the duration of a trip. This can be useful for the taxi drivers to plan their trips, for the customers to know how long a trip will take but also for the taxi companies to plan their fleet. The first two predictions would need real time predictions because the duration of a trip is not known in advance. The last one could be done in batch mode, as it is more a analytical task that doesn't need to be done in real time.\n",
    "\n",
    "Additionally, we will use MLFlow to track the model training and log the model artifacts."
   ]
  },
  {
   "cell_type": "code",
   "execution_count": null,
   "metadata": {},
   "outputs": [],
   "source": [
    "import os\n",
    "from dotenv import load_dotenv\n",
    "\n",
    "import pandas as pd\n",
    "\n",
    "import mlflow\n",
    "from mlflow.tracking.client import MlflowClient\n",
    "\n",
    "from sklearn.model_selection import train_test_split\n",
    "from sklearn.linear_model import LinearRegression\n",
    "from sklearn.metrics import mean_squared_error\n",
    "\n",
    "#import randomforest regressor\n",
    "from sklearn.metrics import mean_absolute_error, mean_absolute_percentage_error\n"
   ]
  },
  {
   "cell_type": "code",
   "execution_count": null,
   "metadata": {},
   "outputs": [],
   "source": [
    "year = 2021\n",
    "month = 1\n",
    "color = \"green\""
   ]
  },
  {
   "cell_type": "code",
   "execution_count": null,
   "metadata": {},
   "outputs": [],
   "source": [
    "# Download the data\n",
    "if not os.path.exists(f\"./data/{color}_tripdata_{year}-{month:02d}.parquet\"):\n",
    "    os.system(f\"wget -P ./data https://d37ci6vzurychx.cloudfront.net/trip-data/{color}_tripdata_{year}-{month:02d}.parquet\")"
   ]
  },
  {
   "cell_type": "code",
   "execution_count": null,
   "metadata": {},
   "outputs": [],
   "source": [
    "# Load the data\n",
    "\n",
    "df = pd.read_parquet(f\"./data/{color}_tripdata_{year}-{month:02d}.parquet\")"
   ]
  },
  {
   "cell_type": "code",
   "execution_count": null,
   "metadata": {},
   "outputs": [],
   "source": [
    "df.shape"
   ]
  },
  {
   "attachments": {},
   "cell_type": "markdown",
   "metadata": {},
   "source": [
    "Now we will set up the connection to MLFlow. For that we have to create a `.env` file with the URI to the MLFlow Server in gcp (this will be `http://<external-ip>:5000`). You can simply run:\n",
    "\n",
    "```bash\n",
    "echo \"MLFLOW_TRACKING_URI=http://<external-ip>:5000\" > .env\n",
    "```\n",
    "\n",
    "We also will create an experiment to track the model and the metrics."
   ]
  },
  {
   "cell_type": "code",
   "execution_count": null,
   "metadata": {},
   "outputs": [],
   "source": [
    "load_dotenv()\n",
    "\n",
    "MLFLOW_TRACKING_URI=os.getenv(\"MLFLOW_TRACKING_URI\")"
   ]
  },
  {
   "cell_type": "code",
   "execution_count": null,
   "metadata": {},
   "outputs": [],
   "source": [
    "# Set up the connection to MLflow\n",
    "mlflow.set_tracking_uri(MLFLOW_TRACKING_URI)\n",
    "client = MlflowClient(tracking_uri=MLFLOW_TRACKING_URI)\n",
    "# Setup the MLflow experiment \n",
    "mlflow.set_experiment(\"green-taxi-monitoring\")"
   ]
  },
  {
   "attachments": {},
   "cell_type": "markdown",
   "metadata": {},
   "source": [
    "If everything went well, you should be able to see the experiment now in the MLFlow UI at `http://<external-ip>:5000`."
   ]
  },
  {
   "attachments": {},
   "cell_type": "markdown",
   "metadata": {},
   "source": [
    "Let's start now with looking at the data a bit:"
   ]
  },
  {
   "cell_type": "code",
   "execution_count": null,
   "metadata": {},
   "outputs": [],
   "source": [
    "df.head()"
   ]
  },
  {
   "cell_type": "code",
   "execution_count": null,
   "metadata": {},
   "outputs": [],
   "source": [
    "df.info()"
   ]
  },
  {
   "cell_type": "code",
   "execution_count": null,
   "metadata": {},
   "outputs": [],
   "source": [
    "# Look for missing values\n",
    "df.isnull().sum()"
   ]
  },
  {
   "attachments": {},
   "cell_type": "markdown",
   "metadata": {},
   "source": [
    "Nearly all features seem to be in the correct type and we have only missings in features that we will not use for the model training. For predicting the duration of a trip, we will use the following features:\n",
    "\n",
    "- `PULocationID`: The pickup location ID\n",
    "- `DOLocationID`: The dropoff location ID\n",
    "- `trip_distance`: The distance of the trip in miles\n",
    "- `fare_amount`: The fare amount in USD\n",
    "- `total_amount`: The total amount in USD\n",
    "- `passenger_count`: The number of passengers\n",
    "\n",
    "But first we have to calculate the duration of the trip in minutes because it is our target. For that we will use the `tpep_pickup_datetime` and `tpep_dropoff_datetime` columns. We will also remove all trips that have a duration of 0 and that are longer than 1 hours to remove outliers."
   ]
  },
  {
   "cell_type": "code",
   "execution_count": null,
   "metadata": {},
   "outputs": [],
   "source": [
    "features = [\"PULocationID\", \"DOLocationID\", \"trip_distance\", \"passenger_count\", \"fare_amount\", \"total_amount\"]\n",
    "target = 'duration'"
   ]
  },
  {
   "cell_type": "code",
   "execution_count": null,
   "metadata": {},
   "outputs": [],
   "source": [
    "# calculate the trip duration in minutes and drop trips that are less than 1 minute and more than 2 hours\n",
    "def calculate_trip_duration_in_minutes(df):\n",
    "    df[\"duration\"] = (df[\"lpep_dropoff_datetime\"] - df[\"lpep_pickup_datetime\"]).dt.total_seconds() / 60\n",
    "    df = df[(df[\"duration\"] >= 1) & (df[\"duration\"] <= 60)]\n",
    "    df = df[(df['passenger_count'] > 0) & (df['passenger_count'] < 8)]\n",
    "    df = df[features + [target]]\n",
    "    return df\n",
    "    "
   ]
  },
  {
   "cell_type": "code",
   "execution_count": null,
   "metadata": {},
   "outputs": [],
   "source": [
    "df_processed = calculate_trip_duration_in_minutes(df)"
   ]
  },
  {
   "cell_type": "code",
   "execution_count": null,
   "metadata": {},
   "outputs": [],
   "source": [
    "df_processed.head()"
   ]
  },
  {
   "cell_type": "code",
   "execution_count": null,
   "metadata": {},
   "outputs": [],
   "source": [
    "df_processed.duration.describe()"
   ]
  },
  {
   "cell_type": "code",
   "execution_count": null,
   "metadata": {},
   "outputs": [],
   "source": [
    "df_processed.duration.hist()"
   ]
  },
  {
   "attachments": {},
   "cell_type": "markdown",
   "metadata": {},
   "source": [
    "Now that we have the dataframe that we want to train our model on. We need to split it into a train and test set. We will use 80% of the data for training and 20% for testing."
   ]
  },
  {
   "cell_type": "code",
   "execution_count": null,
   "metadata": {},
   "outputs": [],
   "source": [
    "y=df_processed[\"duration\"]\n",
    "X=df_processed.drop(columns=[\"duration\"])\n",
    "\n",
    "X_train, X_test, y_train, y_test = train_test_split(X, y, random_state=42, test_size=0.2)"
   ]
  },
  {
   "attachments": {},
   "cell_type": "markdown",
   "metadata": {},
   "source": [
    "And now we can train the model and track the experiment with MLFlow. We will set tags to the experiment to make it easier to find it later.\n",
    "\n",
    "- `model`: `linear-regression`\n",
    "- `dataset`: `yellow-taxi`\n",
    "- `developer`: `your-name`\n",
    "- `train_size`: The size of the train set\n",
    "- `test_size`: The size of the test set\n",
    "- `features`: The features that we used for training\n",
    "- `target`: The target that we want to predict\n",
    "- `year`: The year of the data\n",
    "- `month`: The month of the data\n",
    "\n",
    "We could also log the model parameters but Linear Regression doesn't have any.\n",
    "\n",
    "And finally we will log the metrics:\n",
    "\n",
    "- `rmse`: The root mean squared error\n",
    "\n",
    "We will also log the model artifacts. For that we will need to set the `service account json` that we downloaded earlier as the environment variable `GOOGLE_APPLICATION_CREDENTIALS`. "
   ]
  },
  {
   "cell_type": "code",
   "execution_count": null,
   "metadata": {},
   "outputs": [],
   "source": [
    "SA_KEY= os.getenv(\"SA_KEY\")\n",
    "os.environ[\"GOOGLE_APPLICATION_CREDENTIALS\"] = SA_KEY"
   ]
  },
  {
   "cell_type": "code",
   "execution_count": null,
   "metadata": {},
   "outputs": [],
   "source": [
    "with mlflow.start_run():\n",
    "    \n",
    "    tags = {\n",
    "        \"model\": \"linear regression\",\n",
    "        \"developer\": \"<your name>\",\n",
    "        \"dataset\": f\"{color}-taxi\",\n",
    "        \"year\": year,\n",
    "        \"month\": month,\n",
    "        \"features\": features,\n",
    "        \"target\": target\n",
    "    }\n",
    "    mlflow.set_tags(tags)\n",
    "    \n",
    "    lr = LinearRegression()\n",
    "    lr.fit(X_train, y_train)\n",
    "    \n",
    "    y_pred = lr.predict(X_test)\n",
    "    rmse = mean_squared_error(y_test, y_pred, squared=False)\n",
    "    mlflow.log_metric(\"rmse\", rmse)\n",
    "    \n",
    "    mlflow.sklearn.log_model(lr, \"model\")\n",
    "    run_id = mlflow.active_run().info.run_id\n",
    "\n",
    "    model_uri = f\"runs:/{run_id}/model\"\n",
    "    model_name = \"green-taxi-ride-duration\"\n",
    "    mlflow.register_model(model_uri=model_uri, name=model_name)\n",
    "\n",
    "    model_version = 1\n",
    "    new_stage = \"Production\"\n",
    "    client.transition_model_version_stage(\n",
    "    name=model_name,\n",
    "    version=model_version,\n",
    "    stage=new_stage,\n",
    "    archive_existing_versions=False\n",
    ")"
   ]
  },
  {
   "attachments": {},
   "cell_type": "markdown",
   "metadata": {},
   "source": [
    "You should now see your run in the MLFlow UI. Under the created experiment. You can also see the logged tags, the metric and the saved model.\n",
    "\n",
    "![mlflow-ui](./images/mlflow-run.png)\n",
    "\n",
    "And you can see what you need to do to load the model in an API or script in the UI as long as the application has access to MLFlow.\n"
   ]
  }
 ],
 "metadata": {
  "kernelspec": {
   "display_name": ".venv",
   "language": "python",
   "name": "python3"
  },
  "language_info": {
   "codemirror_mode": {
    "name": "ipython",
    "version": 3
   },
   "file_extension": ".py",
   "mimetype": "text/x-python",
   "name": "python",
   "nbconvert_exporter": "python",
   "pygments_lexer": "ipython3",
   "version": "3.11.3"
  },
  "orig_nbformat": 4
 },
 "nbformat": 4,
 "nbformat_minor": 2
}
